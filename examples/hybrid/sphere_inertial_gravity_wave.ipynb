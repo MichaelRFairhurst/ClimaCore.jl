{
 "cells": [
  {
   "cell_type": "code",
   "execution_count": 197,
   "id": "3ed62023",
   "metadata": {},
   "outputs": [],
   "source": [
    "using ClimaCore\n",
    "using ClimaCore: Spaces, Geometry, Fields\n",
    "ENV[\"TEST_NAME\"]=\"sphere/nonhydrostatic_gravity_wave\";"
   ]
  },
  {
   "cell_type": "code",
   "execution_count": 10,
   "id": "9f5b4f31",
   "metadata": {},
   "outputs": [
    {
     "name": "stdout",
     "output_type": "stream",
     "text": [
      "252.094036 seconds (90.90 M allocations: 5.990 GiB, 0.65% gc time, 19.35% compilation time)\n",
      "elapsed time (ns): 252094035998\n",
      "gc time (ns):      1639035971\n",
      "bytes allocated:   6432117837\n",
      "pool allocs:       90848223\n",
      "non-pool GC allocs:45651\n",
      "malloc() calls:    1253\n",
      "realloc() calls:   17\n",
      "GC pauses:         16\n",
      "full collections:  1\n"
     ]
    },
    {
     "name": "stderr",
     "output_type": "stream",
     "text": [
      "\u001b[36m\u001b[1m[ \u001b[22m\u001b[39m\u001b[36m\u001b[1mInfo: \u001b[22m\u001b[39mPrecompiling ClimaCorePlots [cf7c7e5a-b407-4c48-9047-11a94a308626]\n",
      "\u001b[36m\u001b[1m[ \u001b[22m\u001b[39m\u001b[36m\u001b[1mInfo: \u001b[22m\u001b[39mPrecompiling Plots [91a5bcdd-55d7-5caf-9e0b-520d859cae80]\n",
      "\u001b[36m\u001b[1m[ \u001b[22m\u001b[39m\u001b[36m\u001b[1mInfo: \u001b[22m\u001b[39mPrecompiling ClimaCoreVTK [c8b6d40d-e815-466f-95ae-c48aefa668fa]\n",
      "\u001b[36m\u001b[1m[ \u001b[22m\u001b[39m\u001b[36m\u001b[1mInfo: \u001b[22m\u001b[39mRunning \u001b[36msphere/nonhydrostatic_gravity_wave\u001b[39m\n",
      "\u001b[36m\u001b[1m[ \u001b[22m\u001b[39m\u001b[36m\u001b[1mInfo: \u001b[22m\u001b[39mL₂ norm of ρe at t = 0.0: 28851.938409838014\n",
      "\u001b[36m\u001b[1m[ \u001b[22m\u001b[39m\u001b[36m\u001b[1mInfo: \u001b[22m\u001b[39mL₂ norm of ρe at t = 432000.0: 28286.204772917376\n",
      "\u001b[36m\u001b[1m┌ \u001b[22m\u001b[39m\u001b[36m\u001b[1mInfo: \u001b[22m\u001b[39mSaved animation to\n",
      "\u001b[36m\u001b[1m└ \u001b[22m\u001b[39m  fn = \"/Users/asridhar/Research/Codes/ClimaCore.jl/examples/hybrid/sphere/output/nonhydrostatic_gravity_wave/v.mp4\"\n",
      "\u001b[36m\u001b[1m┌ \u001b[22m\u001b[39m\u001b[36m\u001b[1mInfo: \u001b[22m\u001b[39mSaved animation to\n",
      "\u001b[36m\u001b[1m└ \u001b[22m\u001b[39m  fn = \"/Users/asridhar/Research/Codes/ClimaCore.jl/examples/hybrid/sphere/output/nonhydrostatic_gravity_wave/u.mp4\"\n",
      "\u001b[36m\u001b[1m┌ \u001b[22m\u001b[39m\u001b[36m\u001b[1mInfo: \u001b[22m\u001b[39mSaved animation to\n",
      "\u001b[36m\u001b[1m└ \u001b[22m\u001b[39m  fn = \"/Users/asridhar/Research/Codes/ClimaCore.jl/examples/hybrid/sphere/output/nonhydrostatic_gravity_wave/w.mp4\"\n",
      "\u001b[36m\u001b[1m┌ \u001b[22m\u001b[39m\u001b[36m\u001b[1mInfo: \u001b[22m\u001b[39mSaved animation to\n",
      "\u001b[36m\u001b[1m└ \u001b[22m\u001b[39m  fn = \"/Users/asridhar/Research/Codes/ClimaCore.jl/examples/hybrid/sphere/output/nonhydrostatic_gravity_wave/T.mp4\"\n"
     ]
    }
   ],
   "source": [
    "include(\"driver.jl\")"
   ]
  },
  {
   "cell_type": "code",
   "execution_count": 198,
   "id": "26937659",
   "metadata": {},
   "outputs": [
    {
     "name": "stderr",
     "output_type": "stream",
     "text": [
      "\u001b[36m\u001b[1m[ \u001b[22m\u001b[39m\u001b[36m\u001b[1mInfo: \u001b[22m\u001b[39mPrecompiling WGLMakie [276b4fcb-3e11-5398-bf8b-a0c2d153d008]\n"
     ]
    }
   ],
   "source": [
    "using ClimaCoreMakie\n",
    "using GLMakie, WGLMakie"
   ]
  },
  {
   "cell_type": "code",
   "execution_count": 269,
   "id": "6d98e6b7",
   "metadata": {},
   "outputs": [
    {
     "name": "stderr",
     "output_type": "stream",
     "text": [
      "\u001b[36m\u001b[1m[ \u001b[22m\u001b[39m\u001b[36m\u001b[1mInfo: \u001b[22m\u001b[39mNumber of timesteps available is 481)\n"
     ]
    }
   ],
   "source": [
    "function zonal_velocity(time_index, lev=5, sol=sol)\n",
    "    zv = @. Geometry.UVVector(sol.u[time_index].c.uₕ).components.data.:1\n",
    "    return ClimaCore.Spaces.level(zv,lev)\n",
    "end\n",
    "function meridional_velocity(time_index, lev=5, sol=sol)\n",
    "    mv = @. Geometry.UVVector(sol.u[time_index].c.uₕ).components.data.:2\n",
    "    return ClimaCore.Spaces.level(zv,lev)\n",
    "end\n",
    "function vertical_velocity(time_index, lev=5, sol=sol)\n",
    "    ᶠw = @. Geometry.WVector(sol.u[time_index].f.w).components.data.:1\n",
    "    ᶜw = @. ᶜinterp(ᶠw)\n",
    "    return ClimaCore.Spaces.level(ᶜw,lev)\n",
    "end\n",
    "function temperature_perturbation(time_index, lev=5, sol=sol)\n",
    "     Y = sol.u[time_index]\n",
    "    ᶜρ = Y.c.ρ\n",
    "    ᶜu = Geometry.UVVector.(Y.c.uₕ).components.data.:1\n",
    "    ᶜv = Geometry.UVVector.(Y.c.uₕ).components.data.:2\n",
    "    ᶠw = Geometry.WVector.(Y.f.w).components.data.:1\n",
    "    ᶜw = ᶜinterp.(ᶠw)\n",
    "    ᶜuvw = @. Geometry.UVWVector(Y.c.uₕ) + Geometry.UVWVector(ᶜinterp(Y.f.w))\n",
    "    ᶜz = ᶜlocal_geometry.coordinates.z\n",
    "    eint = @. Y.c.ρe / ᶜρ - (grav * ᶜz) - 1/2 * norm_sqr(ᶜuvw)\n",
    "    T = @. eint / cv_d + T_tri \n",
    "    return ClimaCore.Fields.level(T .- 300,lev)\n",
    "end\n",
    "ind_endtime = length(sol)\n",
    "@info \"Number of timesteps available is $(ind_endtime))\""
   ]
  },
  {
   "cell_type": "code",
   "execution_count": 270,
   "id": "e692b8bd",
   "metadata": {},
   "outputs": [
    {
     "data": {
      "text/plain": [
       "-35.70223951640344"
      ]
     },
     "execution_count": 270,
     "metadata": {},
     "output_type": "execute_result"
    }
   ],
   "source": [
    "maximum(temperature_perturbation(400))"
   ]
  },
  {
   "cell_type": "code",
   "execution_count": 271,
   "id": "6bff04ca",
   "metadata": {},
   "outputs": [
    {
     "data": {
      "text/html": [
       "<div data-jscall-id=\"495\"><script data-jscall-id=\"496\" type=\"text/javascript\">\n",
       "    function register_resize_handler(remote_origin) {\n",
       "        function resize_callback(event) {\n",
       "            if (event.origin !== remote_origin) {\n",
       "                return;\n",
       "            }\n",
       "            const uuid = event.data[0];\n",
       "            const width = event.data[1];\n",
       "            const height = event.data[2];\n",
       "            const iframe = document.getElementById('a44c8983-5d90-466e-90f8-5a6f5c47e9a3');\n",
       "            if (iframe) {\n",
       "                iframe.style.width = width + \"px\";\n",
       "                iframe.style.height = height + \"px\";\n",
       "            }\n",
       "        }\n",
       "        if (window.addEventListener) {\n",
       "            window.addEventListener(\"message\", resize_callback, false);\n",
       "        } else if (window.attachEvent) {\n",
       "            window.attachEvent(\"onmessage\", resize_callback);\n",
       "        }\n",
       "    }\n",
       "    register_resize_handler('http://127.0.0.1:9284')\n",
       "\n",
       "</script><iframe scrolling=\"no\" id=\"a44c8983-5d90-466e-90f8-5a6f5c47e9a3\" data-jscall-id=\"494\" src=\"http://127.0.0.1:9284/a44c8983-5d90-466e-90f8-5a6f5c47e9a3\" style=\"position: relative; display: block; width: 100%; height: 100%; padding: 0; overflow: hidden; border: none\"></iframe></div>\n"
      ],
      "text/plain": [
       "JSServe.App(WGLMakie.var\"#145#146\"{Scene, Base.RefValue{Any}}(Scene (800px, 600px):\n",
       "  0 Plots\n",
       "  1 Child Scene:\n",
       "    └ Scene (768px, 568px), Base.RefValue{Any}(nothing)))"
      ]
     },
     "metadata": {},
     "output_type": "display_data"
    },
    {
     "data": {
      "text/plain": [
       "\"zonal_velocity.mp4\""
      ]
     },
     "execution_count": 271,
     "metadata": {},
     "output_type": "execute_result"
    }
   ],
   "source": [
    "# animation settings\n",
    "framerate = 10\n",
    "time_iterator = range(1, ind_endtime)\n",
    "fig = ClimaCoreMakie.viz(zonal_velocity(1)).figure\n",
    "record(fig, \"zonal_velocity.mp4\", time_iterator; framerate = framerate) do timeind \n",
    "    ClimaCoreMakie.viz(zonal_velocity(timeind))\n",
    "end"
   ]
  },
  {
   "cell_type": "code",
   "execution_count": 290,
   "id": "a117cb86",
   "metadata": {},
   "outputs": [
    {
     "data": {
      "text/plain": [
       "Slider()"
      ]
     },
     "execution_count": 290,
     "metadata": {},
     "output_type": "execute_result"
    }
   ],
   "source": [
    "zvfig = Figure()\n",
    "zvax = Axis(zvfig[1, 1])\n",
    "sl_t = Slider(zvfig[2,1], range = 1:1:ind_endtime, startvalue = 1)\n",
    "sl_z = Slider(zvfig[1,2], range = 1:1:10, horizontal = false, startvalue = 1)"
   ]
  },
  {
   "cell_type": "code",
   "execution_count": 291,
   "id": "b8b68a92",
   "metadata": {},
   "outputs": [
    {
     "data": {
      "text/plain": [
       "Combined{ClimaCoreMakie.viz, Tuple{ClimaCore.Fields.Field{IJFH{Float64, 5, SubArray{Float64, 4, Array{Float64, 5}, Tuple{Int64, Base.Slice{Base.OneTo{Int64}}, Base.Slice{Base.OneTo{Int64}}, Base.Slice{Base.OneTo{Int64}}, Base.Slice{Base.OneTo{Int64}}}, true}}, ClimaCore.Spaces.SpectralElementSpace2D{ClimaCore.Topologies.Topology2D{ClimaCore.Meshes.EquiangularCubedSphere{ClimaCore.Domains.SphereDomain{Float64}, ClimaCore.Meshes.NormalizedBilinearMap}, CartesianIndices{3, Tuple{Base.OneTo{Int64}, Base.OneTo{Int64}, Base.OneTo{Int64}}}, LinearIndices{3, Tuple{Base.OneTo{Int64}, Base.OneTo{Int64}, Base.OneTo{Int64}}}, NamedTuple{(), Tuple{}}}, ClimaCore.Spaces.Quadratures.GLL{5}, ClimaCore.Geometry.SphericalGlobalGeometry{Float64}, IJFH{ClimaCore.Geometry.LocalGeometry{(1, 2, 3), ClimaCore.Geometry.LatLongZPoint{Float64}, Float64, StaticArrays.SMatrix{3, 3, Float64, 9}}, 5, SubArray{Float64, 4, Array{Float64, 5}, Tuple{Int64, Base.Slice{Base.OneTo{Int64}}, Base.Slice{Base.OneTo{Int64}}, Base.Slice{Base.OneTo{Int64}}, Base.Slice{Base.OneTo{Int64}}}, true}}, Nothing, IJFH{Float64, 5, Array{Float64, 4}}, IFH{ClimaCore.Geometry.SurfaceGeometry{Float64, ClimaCore.Geometry.AxisTensor{Float64, 1, Tuple{ClimaCore.Geometry.LocalAxis{(1, 2)}}, StaticArrays.SVector{2, Float64}}}, 5, Array{Float64, 3}}, NamedTuple{(), Tuple{}}}}}}"
      ]
     },
     "execution_count": 291,
     "metadata": {},
     "output_type": "execute_result"
    }
   ],
   "source": [
    "dyn_temp = Makie.lift(sl_t.value, sl_z.value) do it, iz\n",
    "    temperature_perturbation(it, iz)\n",
    "end\n",
    "ClimaCoreMakie.viz!(dyn_temp)"
   ]
  }
 ],
 "metadata": {
  "kernelspec": {
   "display_name": "Julia 1.7.1",
   "language": "julia",
   "name": "julia-1.7"
  },
  "language_info": {
   "file_extension": ".jl",
   "mimetype": "application/julia",
   "name": "julia",
   "version": "1.7.1"
  }
 },
 "nbformat": 4,
 "nbformat_minor": 5
}
