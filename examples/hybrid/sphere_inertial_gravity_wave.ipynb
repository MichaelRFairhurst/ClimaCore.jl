{
 "cells": [
  {
   "cell_type": "code",
   "execution_count": 1,
   "id": "3ed62023",
   "metadata": {},
   "outputs": [],
   "source": [
    "using ClimaCore\n",
    "using ClimaCore: Spaces, Geometry, Fields\n",
    "ENV[\"TEST_NAME\"]=\"sphere/nonhydrostatic_gravity_wave\";"
   ]
  },
  {
   "cell_type": "code",
   "execution_count": 2,
   "id": "9f5b4f31",
   "metadata": {},
   "outputs": [
    {
     "name": "stderr",
     "output_type": "stream",
     "text": [
      "\u001b[36m\u001b[1m[ \u001b[22m\u001b[39m\u001b[36m\u001b[1mInfo: \u001b[22m\u001b[39mSaving prognostic variables to JLD2 file on day 0\n",
      "\u001b[36m\u001b[1m[ \u001b[22m\u001b[39m\u001b[36m\u001b[1mInfo: \u001b[22m\u001b[39mRunning \u001b[36msphere/nonhydrostatic_gravity_wave\u001b[39m\n",
      "\u001b[36m\u001b[1m[ \u001b[22m\u001b[39m\u001b[36m\u001b[1mInfo: \u001b[22m\u001b[39mSaving prognostic variables to JLD2 file on day 0\n",
      "\u001b[36m\u001b[1m[ \u001b[22m\u001b[39m\u001b[36m\u001b[1mInfo: \u001b[22m\u001b[39mSaving prognostic variables to JLD2 file on day 0\n",
      "\u001b[36m\u001b[1m[ \u001b[22m\u001b[39m\u001b[36m\u001b[1mInfo: \u001b[22m\u001b[39mSaving prognostic variables to JLD2 file on day 0\n",
      "\u001b[36m\u001b[1m[ \u001b[22m\u001b[39m\u001b[36m\u001b[1mInfo: \u001b[22m\u001b[39mSaving prognostic variables to JLD2 file on day 0\n",
      "\u001b[36m\u001b[1m[ \u001b[22m\u001b[39m\u001b[36m\u001b[1mInfo: \u001b[22m\u001b[39mSaving prognostic variables to JLD2 file on day 0\n",
      "\u001b[36m\u001b[1m[ \u001b[22m\u001b[39m\u001b[36m\u001b[1mInfo: \u001b[22m\u001b[39mSaving prognostic variables to JLD2 file on day 0\n",
      "\u001b[36m\u001b[1m[ \u001b[22m\u001b[39m\u001b[36m\u001b[1mInfo: \u001b[22m\u001b[39mSaving prognostic variables to JLD2 file on day 0\n",
      "\u001b[36m\u001b[1m[ \u001b[22m\u001b[39m\u001b[36m\u001b[1mInfo: \u001b[22m\u001b[39mSaving prognostic variables to JLD2 file on day 0\n",
      "\u001b[36m\u001b[1m[ \u001b[22m\u001b[39m\u001b[36m\u001b[1mInfo: \u001b[22m\u001b[39mSaving prognostic variables to JLD2 file on day 0\n",
      "\u001b[36m\u001b[1m[ \u001b[22m\u001b[39m\u001b[36m\u001b[1mInfo: \u001b[22m\u001b[39mSaving prognostic variables to JLD2 file on day 0\n",
      "\u001b[36m\u001b[1m[ \u001b[22m\u001b[39m\u001b[36m\u001b[1mInfo: \u001b[22m\u001b[39mSaving prognostic variables to JLD2 file on day 0\n",
      "\u001b[36m\u001b[1m[ \u001b[22m\u001b[39m\u001b[36m\u001b[1mInfo: \u001b[22m\u001b[39mSaving prognostic variables to JLD2 file on day 0\n",
      "\u001b[36m\u001b[1m[ \u001b[22m\u001b[39m\u001b[36m\u001b[1mInfo: \u001b[22m\u001b[39mSaving prognostic variables to JLD2 file on day 0\n",
      "\u001b[36m\u001b[1m[ \u001b[22m\u001b[39m\u001b[36m\u001b[1mInfo: \u001b[22m\u001b[39mSaving prognostic variables to JLD2 file on day 0\n",
      "\u001b[36m\u001b[1m[ \u001b[22m\u001b[39m\u001b[36m\u001b[1mInfo: \u001b[22m\u001b[39mSaving prognostic variables to JLD2 file on day 0\n",
      "\u001b[36m\u001b[1m[ \u001b[22m\u001b[39m\u001b[36m\u001b[1mInfo: \u001b[22m\u001b[39mSaving prognostic variables to JLD2 file on day 0\n",
      "\u001b[36m\u001b[1m[ \u001b[22m\u001b[39m\u001b[36m\u001b[1mInfo: \u001b[22m\u001b[39mSaving prognostic variables to JLD2 file on day 0\n",
      "\u001b[36m\u001b[1m[ \u001b[22m\u001b[39m\u001b[36m\u001b[1mInfo: \u001b[22m\u001b[39mSaving prognostic variables to JLD2 file on day 0\n",
      "\u001b[36m\u001b[1m[ \u001b[22m\u001b[39m\u001b[36m\u001b[1mInfo: \u001b[22m\u001b[39mSaving prognostic variables to JLD2 file on day 0\n",
      "\u001b[36m\u001b[1m[ \u001b[22m\u001b[39m\u001b[36m\u001b[1mInfo: \u001b[22m\u001b[39mSaving prognostic variables to JLD2 file on day 0\n",
      "\u001b[36m\u001b[1m[ \u001b[22m\u001b[39m\u001b[36m\u001b[1mInfo: \u001b[22m\u001b[39mSaving prognostic variables to JLD2 file on day 0\n",
      "\u001b[36m\u001b[1m[ \u001b[22m\u001b[39m\u001b[36m\u001b[1mInfo: \u001b[22m\u001b[39mSaving prognostic variables to JLD2 file on day 0\n",
      "\u001b[36m\u001b[1m[ \u001b[22m\u001b[39m\u001b[36m\u001b[1mInfo: \u001b[22m\u001b[39mSaving prognostic variables to JLD2 file on day 0\n",
      "\u001b[36m\u001b[1m[ \u001b[22m\u001b[39m\u001b[36m\u001b[1mInfo: \u001b[22m\u001b[39mSaving prognostic variables to JLD2 file on day 0\n",
      "\u001b[36m\u001b[1m[ \u001b[22m\u001b[39m\u001b[36m\u001b[1mInfo: \u001b[22m\u001b[39mSaving prognostic variables to JLD2 file on day 0\n",
      "\u001b[36m\u001b[1m[ \u001b[22m\u001b[39m\u001b[36m\u001b[1mInfo: \u001b[22m\u001b[39mSaving prognostic variables to JLD2 file on day 0\n",
      "\u001b[36m\u001b[1m[ \u001b[22m\u001b[39m\u001b[36m\u001b[1mInfo: \u001b[22m\u001b[39mSaving prognostic variables to JLD2 file on day 0\n",
      "\u001b[36m\u001b[1m[ \u001b[22m\u001b[39m\u001b[36m\u001b[1mInfo: \u001b[22m\u001b[39mSaving prognostic variables to JLD2 file on day 0\n",
      "\u001b[36m\u001b[1m[ \u001b[22m\u001b[39m\u001b[36m\u001b[1mInfo: \u001b[22m\u001b[39mSaving prognostic variables to JLD2 file on day 0\n",
      "\u001b[36m\u001b[1m[ \u001b[22m\u001b[39m\u001b[36m\u001b[1mInfo: \u001b[22m\u001b[39mSaving prognostic variables to JLD2 file on day 0\n",
      "\u001b[36m\u001b[1m[ \u001b[22m\u001b[39m\u001b[36m\u001b[1mInfo: \u001b[22m\u001b[39mSaving prognostic variables to JLD2 file on day 0\n",
      "\u001b[36m\u001b[1m[ \u001b[22m\u001b[39m\u001b[36m\u001b[1mInfo: \u001b[22m\u001b[39mSaving prognostic variables to JLD2 file on day 0\n",
      "\u001b[36m\u001b[1m[ \u001b[22m\u001b[39m\u001b[36m\u001b[1mInfo: \u001b[22m\u001b[39mSaving prognostic variables to JLD2 file on day 0\n",
      "\u001b[36m\u001b[1m[ \u001b[22m\u001b[39m\u001b[36m\u001b[1mInfo: \u001b[22m\u001b[39mSaving prognostic variables to JLD2 file on day 0\n",
      "\u001b[36m\u001b[1m[ \u001b[22m\u001b[39m\u001b[36m\u001b[1mInfo: \u001b[22m\u001b[39mSaving prognostic variables to JLD2 file on day 0\n",
      "\u001b[36m\u001b[1m[ \u001b[22m\u001b[39m\u001b[36m\u001b[1mInfo: \u001b[22m\u001b[39mSaving prognostic variables to JLD2 file on day 0\n",
      "\u001b[36m\u001b[1m[ \u001b[22m\u001b[39m\u001b[36m\u001b[1mInfo: \u001b[22m\u001b[39mSaving prognostic variables to JLD2 file on day 0\n",
      "\u001b[36m\u001b[1m[ \u001b[22m\u001b[39m\u001b[36m\u001b[1mInfo: \u001b[22m\u001b[39mSaving prognostic variables to JLD2 file on day 0\n",
      "\u001b[36m\u001b[1m[ \u001b[22m\u001b[39m\u001b[36m\u001b[1mInfo: \u001b[22m\u001b[39mSaving prognostic variables to JLD2 file on day 0\n",
      "\u001b[36m\u001b[1m[ \u001b[22m\u001b[39m\u001b[36m\u001b[1mInfo: \u001b[22m\u001b[39mSaving prognostic variables to JLD2 file on day 0\n",
      "\u001b[36m\u001b[1m[ \u001b[22m\u001b[39m\u001b[36m\u001b[1mInfo: \u001b[22m\u001b[39mSaving prognostic variables to JLD2 file on day 0\n",
      "\u001b[36m\u001b[1m[ \u001b[22m\u001b[39m\u001b[36m\u001b[1mInfo: \u001b[22m\u001b[39mSaving prognostic variables to JLD2 file on day 0\n",
      "\u001b[36m\u001b[1m[ \u001b[22m\u001b[39m\u001b[36m\u001b[1mInfo: \u001b[22m\u001b[39mSaving prognostic variables to JLD2 file on day 0\n",
      "\u001b[36m\u001b[1m[ \u001b[22m\u001b[39m\u001b[36m\u001b[1mInfo: \u001b[22m\u001b[39mSaving prognostic variables to JLD2 file on day 0\n",
      "\u001b[36m\u001b[1m[ \u001b[22m\u001b[39m\u001b[36m\u001b[1mInfo: \u001b[22m\u001b[39mSaving prognostic variables to JLD2 file on day 0\n",
      "\u001b[36m\u001b[1m[ \u001b[22m\u001b[39m\u001b[36m\u001b[1mInfo: \u001b[22m\u001b[39mSaving prognostic variables to JLD2 file on day 0\n",
      "\u001b[36m\u001b[1m[ \u001b[22m\u001b[39m\u001b[36m\u001b[1mInfo: \u001b[22m\u001b[39mSaving prognostic variables to JLD2 file on day 0\n",
      "\u001b[36m\u001b[1m[ \u001b[22m\u001b[39m\u001b[36m\u001b[1mInfo: \u001b[22m\u001b[39mSaving prognostic variables to JLD2 file on day 0\n",
      "\u001b[36m\u001b[1m[ \u001b[22m\u001b[39m\u001b[36m\u001b[1mInfo: \u001b[22m\u001b[39mSaving prognostic variables to JLD2 file on day 0\n",
      "\u001b[36m\u001b[1m[ \u001b[22m\u001b[39m\u001b[36m\u001b[1mInfo: \u001b[22m\u001b[39mSaving prognostic variables to JLD2 file on day 0\n",
      "\u001b[36m\u001b[1m[ \u001b[22m\u001b[39m\u001b[36m\u001b[1mInfo: \u001b[22m\u001b[39mSaving prognostic variables to JLD2 file on day 0\n",
      "\u001b[36m\u001b[1m[ \u001b[22m\u001b[39m\u001b[36m\u001b[1mInfo: \u001b[22m\u001b[39mSaving prognostic variables to JLD2 file on day 0\n",
      "\u001b[36m\u001b[1m[ \u001b[22m\u001b[39m\u001b[36m\u001b[1mInfo: \u001b[22m\u001b[39mSaving prognostic variables to JLD2 file on day 0\n",
      "\u001b[36m\u001b[1m[ \u001b[22m\u001b[39m\u001b[36m\u001b[1mInfo: \u001b[22m\u001b[39mSaving prognostic variables to JLD2 file on day 0\n",
      "\u001b[36m\u001b[1m[ \u001b[22m\u001b[39m\u001b[36m\u001b[1mInfo: \u001b[22m\u001b[39mSaving prognostic variables to JLD2 file on day 0\n",
      "\u001b[36m\u001b[1m[ \u001b[22m\u001b[39m\u001b[36m\u001b[1mInfo: \u001b[22m\u001b[39mSaving prognostic variables to JLD2 file on day 0\n",
      "\u001b[36m\u001b[1m[ \u001b[22m\u001b[39m\u001b[36m\u001b[1mInfo: \u001b[22m\u001b[39mSaving prognostic variables to JLD2 file on day 0\n",
      "\u001b[36m\u001b[1m[ \u001b[22m\u001b[39m\u001b[36m\u001b[1mInfo: \u001b[22m\u001b[39mSaving prognostic variables to JLD2 file on day 0\n",
      "\u001b[36m\u001b[1m[ \u001b[22m\u001b[39m\u001b[36m\u001b[1mInfo: \u001b[22m\u001b[39mSaving prognostic variables to JLD2 file on day 0\n",
      "\u001b[36m\u001b[1m[ \u001b[22m\u001b[39m\u001b[36m\u001b[1mInfo: \u001b[22m\u001b[39mSaving prognostic variables to JLD2 file on day 0\n",
      "\u001b[36m\u001b[1m[ \u001b[22m\u001b[39m\u001b[36m\u001b[1mInfo: \u001b[22m\u001b[39mSaving prognostic variables to JLD2 file on day 0\n",
      "\u001b[36m\u001b[1m[ \u001b[22m\u001b[39m\u001b[36m\u001b[1mInfo: \u001b[22m\u001b[39mSaving prognostic variables to JLD2 file on day 0\n",
      "\u001b[36m\u001b[1m[ \u001b[22m\u001b[39m\u001b[36m\u001b[1mInfo: \u001b[22m\u001b[39mSaving prognostic variables to JLD2 file on day 0\n",
      "\u001b[36m\u001b[1m[ \u001b[22m\u001b[39m\u001b[36m\u001b[1mInfo: \u001b[22m\u001b[39mSaving prognostic variables to JLD2 file on day 0\n",
      "\u001b[36m\u001b[1m[ \u001b[22m\u001b[39m\u001b[36m\u001b[1mInfo: \u001b[22m\u001b[39mSaving prognostic variables to JLD2 file on day 0\n",
      "\u001b[36m\u001b[1m[ \u001b[22m\u001b[39m\u001b[36m\u001b[1mInfo: \u001b[22m\u001b[39mSaving prognostic variables to JLD2 file on day 0\n",
      "\u001b[36m\u001b[1m[ \u001b[22m\u001b[39m\u001b[36m\u001b[1mInfo: \u001b[22m\u001b[39mSaving prognostic variables to JLD2 file on day 0\n",
      "\u001b[36m\u001b[1m[ \u001b[22m\u001b[39m\u001b[36m\u001b[1mInfo: \u001b[22m\u001b[39mSaving prognostic variables to JLD2 file on day 0\n",
      "\u001b[36m\u001b[1m[ \u001b[22m\u001b[39m\u001b[36m\u001b[1mInfo: \u001b[22m\u001b[39mSaving prognostic variables to JLD2 file on day 0\n",
      "\u001b[36m\u001b[1m[ \u001b[22m\u001b[39m\u001b[36m\u001b[1mInfo: \u001b[22m\u001b[39mSaving prognostic variables to JLD2 file on day 0\n",
      "\u001b[36m\u001b[1m[ \u001b[22m\u001b[39m\u001b[36m\u001b[1mInfo: \u001b[22m\u001b[39mSaving prognostic variables to JLD2 file on day 0\n",
      "\u001b[36m\u001b[1m[ \u001b[22m\u001b[39m\u001b[36m\u001b[1mInfo: \u001b[22m\u001b[39mSaving prognostic variables to JLD2 file on day 0\n",
      "\u001b[36m\u001b[1m[ \u001b[22m\u001b[39m\u001b[36m\u001b[1mInfo: \u001b[22m\u001b[39mSaving prognostic variables to JLD2 file on day 0\n",
      "\u001b[36m\u001b[1m[ \u001b[22m\u001b[39m\u001b[36m\u001b[1mInfo: \u001b[22m\u001b[39mSaving prognostic variables to JLD2 file on day 0\n",
      "\u001b[36m\u001b[1m[ \u001b[22m\u001b[39m\u001b[36m\u001b[1mInfo: \u001b[22m\u001b[39mSaving prognostic variables to JLD2 file on day 0\n",
      "\u001b[36m\u001b[1m[ \u001b[22m\u001b[39m\u001b[36m\u001b[1mInfo: \u001b[22m\u001b[39mSaving prognostic variables to JLD2 file on day 0\n",
      "\u001b[36m\u001b[1m[ \u001b[22m\u001b[39m\u001b[36m\u001b[1mInfo: \u001b[22m\u001b[39mSaving prognostic variables to JLD2 file on day 0\n",
      "\u001b[36m\u001b[1m[ \u001b[22m\u001b[39m\u001b[36m\u001b[1mInfo: \u001b[22m\u001b[39mSaving prognostic variables to JLD2 file on day 0\n",
      "\u001b[36m\u001b[1m[ \u001b[22m\u001b[39m\u001b[36m\u001b[1mInfo: \u001b[22m\u001b[39mSaving prognostic variables to JLD2 file on day 0\n",
      "\u001b[36m\u001b[1m[ \u001b[22m\u001b[39m\u001b[36m\u001b[1mInfo: \u001b[22m\u001b[39mSaving prognostic variables to JLD2 file on day 0\n",
      "\u001b[36m\u001b[1m[ \u001b[22m\u001b[39m\u001b[36m\u001b[1mInfo: \u001b[22m\u001b[39mSaving prognostic variables to JLD2 file on day 0\n",
      "\u001b[36m\u001b[1m[ \u001b[22m\u001b[39m\u001b[36m\u001b[1mInfo: \u001b[22m\u001b[39mSaving prognostic variables to JLD2 file on day 0\n",
      "\u001b[36m\u001b[1m[ \u001b[22m\u001b[39m\u001b[36m\u001b[1mInfo: \u001b[22m\u001b[39mSaving prognostic variables to JLD2 file on day 0\n",
      "\u001b[36m\u001b[1m[ \u001b[22m\u001b[39m\u001b[36m\u001b[1mInfo: \u001b[22m\u001b[39mSaving prognostic variables to JLD2 file on day 0\n",
      "\u001b[36m\u001b[1m[ \u001b[22m\u001b[39m\u001b[36m\u001b[1mInfo: \u001b[22m\u001b[39mSaving prognostic variables to JLD2 file on day 0\n",
      "\u001b[36m\u001b[1m[ \u001b[22m\u001b[39m\u001b[36m\u001b[1mInfo: \u001b[22m\u001b[39mSaving prognostic variables to JLD2 file on day 0\n",
      "\u001b[36m\u001b[1m[ \u001b[22m\u001b[39m\u001b[36m\u001b[1mInfo: \u001b[22m\u001b[39mSaving prognostic variables to JLD2 file on day 0\n",
      "\u001b[36m\u001b[1m[ \u001b[22m\u001b[39m\u001b[36m\u001b[1mInfo: \u001b[22m\u001b[39mSaving prognostic variables to JLD2 file on day 0\n",
      "\u001b[36m\u001b[1m[ \u001b[22m\u001b[39m\u001b[36m\u001b[1mInfo: \u001b[22m\u001b[39mSaving prognostic variables to JLD2 file on day 0\n",
      "\u001b[36m\u001b[1m[ \u001b[22m\u001b[39m\u001b[36m\u001b[1mInfo: \u001b[22m\u001b[39mSaving prognostic variables to JLD2 file on day 0\n",
      "\u001b[36m\u001b[1m[ \u001b[22m\u001b[39m\u001b[36m\u001b[1mInfo: \u001b[22m\u001b[39mSaving prognostic variables to JLD2 file on day 0\n",
      "\u001b[36m\u001b[1m[ \u001b[22m\u001b[39m\u001b[36m\u001b[1mInfo: \u001b[22m\u001b[39mSaving prognostic variables to JLD2 file on day 0\n",
      "\u001b[36m\u001b[1m[ \u001b[22m\u001b[39m\u001b[36m\u001b[1mInfo: \u001b[22m\u001b[39mSaving prognostic variables to JLD2 file on day 0\n",
      "\u001b[36m\u001b[1m[ \u001b[22m\u001b[39m\u001b[36m\u001b[1mInfo: \u001b[22m\u001b[39mSaving prognostic variables to JLD2 file on day 0\n",
      "\u001b[36m\u001b[1m[ \u001b[22m\u001b[39m\u001b[36m\u001b[1mInfo: \u001b[22m\u001b[39mSaving prognostic variables to JLD2 file on day 0\n",
      "\u001b[36m\u001b[1m[ \u001b[22m\u001b[39m\u001b[36m\u001b[1mInfo: \u001b[22m\u001b[39mL₂ norm of ρe at t = 0.0: 28851.938409838014\n",
      "\u001b[36m\u001b[1m[ \u001b[22m\u001b[39m\u001b[36m\u001b[1mInfo: \u001b[22m\u001b[39mL₂ norm of ρe at t = 86400.0: 28740.95347300874\n",
      "\u001b[36m\u001b[1m┌ \u001b[22m\u001b[39m\u001b[36m\u001b[1mInfo: \u001b[22m\u001b[39mSaved animation to\n",
      "\u001b[36m\u001b[1m└ \u001b[22m\u001b[39m  fn = \"/Users/asridhar/Research/Codes/ClimaCore.jl/examples/hybrid/sphere/output/nonhydrostatic_gravity_wave/v.mp4\"\n",
      "\u001b[36m\u001b[1m┌ \u001b[22m\u001b[39m\u001b[36m\u001b[1mInfo: \u001b[22m\u001b[39mSaved animation to\n",
      "\u001b[36m\u001b[1m└ \u001b[22m\u001b[39m  fn = \"/Users/asridhar/Research/Codes/ClimaCore.jl/examples/hybrid/sphere/output/nonhydrostatic_gravity_wave/u.mp4\"\n",
      "\u001b[36m\u001b[1m┌ \u001b[22m\u001b[39m\u001b[36m\u001b[1mInfo: \u001b[22m\u001b[39mSaved animation to\n",
      "\u001b[36m\u001b[1m└ \u001b[22m\u001b[39m  fn = \"/Users/asridhar/Research/Codes/ClimaCore.jl/examples/hybrid/sphere/output/nonhydrostatic_gravity_wave/w.mp4\"\n",
      "\u001b[36m\u001b[1m┌ \u001b[22m\u001b[39m\u001b[36m\u001b[1mInfo: \u001b[22m\u001b[39mSaved animation to\n",
      "\u001b[36m\u001b[1m└ \u001b[22m\u001b[39m  fn = \"/Users/asridhar/Research/Codes/ClimaCore.jl/examples/hybrid/sphere/output/nonhydrostatic_gravity_wave/T.mp4\"\n"
     ]
    },
    {
     "name": "stdout",
     "output_type": "stream",
     "text": [
      "114.702762 seconds (78.90 M allocations: 4.436 GiB, 1.27% gc time, 50.15% compilation time)\n",
      "elapsed time (ns): 114702761899\n",
      "gc time (ns):      1458133657\n",
      "bytes allocated:   4763404864\n",
      "pool allocs:       78864899\n",
      "non-pool GC allocs:37576\n",
      "malloc() calls:    667\n",
      "realloc() calls:   18\n",
      "GC pauses:         14\n"
     ]
    }
   ],
   "source": [
    "include(\"driver.jl\")"
   ]
  },
  {
   "cell_type": "code",
   "execution_count": 9,
   "id": "26937659",
   "metadata": {},
   "outputs": [],
   "source": [
    "using ClimaCoreMakie\n",
    "using GLMakie, WGLMakie"
   ]
  },
  {
   "cell_type": "code",
   "execution_count": 10,
   "id": "6d98e6b7",
   "metadata": {},
   "outputs": [
    {
     "name": "stderr",
     "output_type": "stream",
     "text": [
      "\u001b[36m\u001b[1m[ \u001b[22m\u001b[39m\u001b[36m\u001b[1mInfo: \u001b[22m\u001b[39mNumber of timesteps available is 193)\n"
     ]
    }
   ],
   "source": [
    "function zonal_velocity(time_index, lev=5, sol=sol)\n",
    "    zv = @. Geometry.UVVector(sol.u[time_index].c.uₕ).components.data.:1\n",
    "    return ClimaCore.Spaces.level(zv,lev)\n",
    "end\n",
    "function meridional_velocity(time_index, lev=5, sol=sol)\n",
    "    mv = @. Geometry.UVVector(sol.u[time_index].c.uₕ).components.data.:2\n",
    "    return ClimaCore.Spaces.level(zv,lev)\n",
    "end\n",
    "function vertical_velocity(time_index, lev=5, sol=sol)\n",
    "    ᶠw = @. Geometry.WVector(sol.u[time_index].f.w).components.data.:1\n",
    "    ᶜw = @. ᶜinterp(ᶠw)\n",
    "    return ClimaCore.Spaces.level(ᶜw,lev)\n",
    "end\n",
    "function temperature_perturbation(time_index, lev=5, sol=sol)\n",
    "     Y = sol.u[time_index]\n",
    "    ᶜρ = Y.c.ρ\n",
    "    ᶜu = Geometry.UVVector.(Y.c.uₕ).components.data.:1\n",
    "    ᶜv = Geometry.UVVector.(Y.c.uₕ).components.data.:2\n",
    "    ᶠw = Geometry.WVector.(Y.f.w).components.data.:1\n",
    "    ᶜw = ᶜinterp.(ᶠw)\n",
    "    ᶜuvw = @. Geometry.UVWVector(Y.c.uₕ) + Geometry.UVWVector(ᶜinterp(Y.f.w))\n",
    "    ᶜz = ᶜlocal_geometry.coordinates.z\n",
    "    eint = @. Y.c.ρe / ᶜρ - (grav * ᶜz) - 1/2 * norm_sqr(ᶜuvw)\n",
    "    T = @. eint / cv_d + T_tri \n",
    "    return ClimaCore.Fields.level(T .- 300,lev)\n",
    "end\n",
    "ind_endtime = length(sol)\n",
    "@info \"Number of timesteps available is $(ind_endtime))\""
   ]
  },
  {
   "cell_type": "code",
   "execution_count": 12,
   "id": "e692b8bd",
   "metadata": {},
   "outputs": [
    {
     "data": {
      "text/plain": [
       "-33.51751863236166"
      ]
     },
     "execution_count": 12,
     "metadata": {},
     "output_type": "execute_result"
    }
   ],
   "source": [
    "maximum(temperature_perturbation(50))"
   ]
  },
  {
   "cell_type": "code",
   "execution_count": 13,
   "id": "6bff04ca",
   "metadata": {},
   "outputs": [
    {
     "data": {
      "text/html": [
       "<div data-jscall-id=\"19\"><script data-jscall-id=\"20\" type=\"text/javascript\">\n",
       "    function register_resize_handler(remote_origin) {\n",
       "        function resize_callback(event) {\n",
       "            if (event.origin !== remote_origin) {\n",
       "                return;\n",
       "            }\n",
       "            const uuid = event.data[0];\n",
       "            const width = event.data[1];\n",
       "            const height = event.data[2];\n",
       "            const iframe = document.getElementById('ae2e3890-a3c3-42f4-ade7-91b3bd21c3ad');\n",
       "            if (iframe) {\n",
       "                iframe.style.width = width + \"px\";\n",
       "                iframe.style.height = height + \"px\";\n",
       "            }\n",
       "        }\n",
       "        if (window.addEventListener) {\n",
       "            window.addEventListener(\"message\", resize_callback, false);\n",
       "        } else if (window.attachEvent) {\n",
       "            window.attachEvent(\"onmessage\", resize_callback);\n",
       "        }\n",
       "    }\n",
       "    register_resize_handler('http://127.0.0.1:9284')\n",
       "\n",
       "</script><iframe scrolling=\"no\" id=\"ae2e3890-a3c3-42f4-ade7-91b3bd21c3ad\" data-jscall-id=\"18\" src=\"http://127.0.0.1:9284/ae2e3890-a3c3-42f4-ade7-91b3bd21c3ad\" style=\"position: relative; display: block; width: 100%; height: 100%; padding: 0; overflow: hidden; border: none\"></iframe></div>\n"
      ],
      "text/plain": [
       "JSServe.App(WGLMakie.var\"#145#146\"{Scene, Base.RefValue{Any}}(Scene (800px, 600px):\n",
       "  0 Plots\n",
       "  1 Child Scene:\n",
       "    └ Scene (768px, 568px), Base.RefValue{Any}(nothing)))"
      ]
     },
     "metadata": {},
     "output_type": "display_data"
    },
    {
     "data": {
      "text/plain": [
       "\"zonal_velocity.mp4\""
      ]
     },
     "execution_count": 13,
     "metadata": {},
     "output_type": "execute_result"
    }
   ],
   "source": [
    "# animation settings\n",
    "framerate = 10\n",
    "time_iterator = range(1, ind_endtime)\n",
    "fig = ClimaCoreMakie.viz(zonal_velocity(1)).figure\n",
    "record(fig, \"zonal_velocity.mp4\", time_iterator; framerate = framerate) do timeind \n",
    "    ClimaCoreMakie.viz(zonal_velocity(timeind))\n",
    "end"
   ]
  },
  {
   "cell_type": "code",
   "execution_count": 14,
   "id": "a117cb86",
   "metadata": {},
   "outputs": [
    {
     "data": {
      "text/plain": [
       "Slider()"
      ]
     },
     "execution_count": 14,
     "metadata": {},
     "output_type": "execute_result"
    }
   ],
   "source": [
    "zvfig = Figure()\n",
    "zvax = Axis(zvfig[1, 1])\n",
    "sl_t = Slider(zvfig[2,1], range = 1:1:ind_endtime, startvalue = 1)\n",
    "sl_z = Slider(zvfig[1,2], range = 1:1:10, horizontal = false, startvalue = 1)"
   ]
  },
  {
   "cell_type": "code",
   "execution_count": 16,
   "id": "b8b68a92",
   "metadata": {},
   "outputs": [
    {
     "data": {
      "text/plain": [
       "Combined{ClimaCoreMakie.viz, Tuple{ClimaCore.Fields.Field{IJFH{Float64, 5, SubArray{Float64, 4, Array{Float64, 5}, Tuple{Int64, Base.Slice{Base.OneTo{Int64}}, Base.Slice{Base.OneTo{Int64}}, Base.Slice{Base.OneTo{Int64}}, Base.Slice{Base.OneTo{Int64}}}, true}}, ClimaCore.Spaces.SpectralElementSpace2D{ClimaCore.Topologies.Topology2D{ClimaCore.Meshes.EquiangularCubedSphere{ClimaCore.Domains.SphereDomain{Float64}, ClimaCore.Meshes.NormalizedBilinearMap}, CartesianIndices{3, Tuple{Base.OneTo{Int64}, Base.OneTo{Int64}, Base.OneTo{Int64}}}, LinearIndices{3, Tuple{Base.OneTo{Int64}, Base.OneTo{Int64}, Base.OneTo{Int64}}}, NamedTuple{(), Tuple{}}}, ClimaCore.Spaces.Quadratures.GLL{5}, ClimaCore.Geometry.SphericalGlobalGeometry{Float64}, IJFH{ClimaCore.Geometry.LocalGeometry{(1, 2, 3), ClimaCore.Geometry.LatLongZPoint{Float64}, Float64, StaticArrays.SMatrix{3, 3, Float64, 9}}, 5, SubArray{Float64, 4, Array{Float64, 5}, Tuple{Int64, Base.Slice{Base.OneTo{Int64}}, Base.Slice{Base.OneTo{Int64}}, Base.Slice{Base.OneTo{Int64}}, Base.Slice{Base.OneTo{Int64}}}, true}}, Nothing, IJFH{Float64, 5, Array{Float64, 4}}, IFH{ClimaCore.Geometry.SurfaceGeometry{Float64, ClimaCore.Geometry.AxisTensor{Float64, 1, Tuple{ClimaCore.Geometry.LocalAxis{(1, 2)}}, StaticArrays.SVector{2, Float64}}}, 5, Array{Float64, 3}}, NamedTuple{(), Tuple{}}}}}}"
      ]
     },
     "execution_count": 16,
     "metadata": {},
     "output_type": "execute_result"
    }
   ],
   "source": [
    "dyn_temp = Makie.lift(sl_t.value, sl_z.value) do it, iz\n",
    "    temperature_perturbation(it, iz)\n",
    "end\n",
    "ClimaCoreMakie.viz!(dyn_temp)"
   ]
  },
  {
   "cell_type": "code",
   "execution_count": 95,
   "id": "94b39c16",
   "metadata": {},
   "outputs": [],
   "source": [
    "using ClimaCore: Geometry, Meshes, Domains, Topologies, Spaces, Operators\n",
    "using NCDatasets\n",
    "using ClimaCoreTempestRemap"
   ]
  },
  {
   "cell_type": "code",
   "execution_count": 135,
   "id": "69b9fc8b",
   "metadata": {
    "scrolled": true
   },
   "outputs": [
    {
     "name": "stdout",
     "output_type": "stream",
     "text": [
      "size(nc_rho) = (2400, 10, 1)\n"
     ]
    }
   ],
   "source": [
    "datafile_cc = \"test.nc\"\n",
    "NCDataset(datafile_cc, \"c\") do nc\n",
    "    # defines the appropriate dimensions and variables for a space coordinate\n",
    "    def_space_coord(nc, hv_center_space)\n",
    "    # defines the appropriate dimensions and variables for a time coordinate (by default, unlimited size)\n",
    "    nc_time = def_time_coord(nc)\n",
    "    cspace = hv_center_space\n",
    "    # define variables\n",
    "    nc_rho = defVar(nc, \"rho\", Float64, cspace, (\"time\",))\n",
    "    nc_e = defVar(nc, \"e\", Float64, cspace, (\"time\",))\n",
    "    nc_u = defVar(nc, \"u\", Float64, cspace, (\"time\",))\n",
    "    nc_v = defVar(nc, \"v\", Float64, cspace, (\"time\",))\n",
    "    nc_w = defVar(nc, \"w\", Float64, cspace, (\"time\",))\n",
    "    \n",
    "    # write data to netcdf file\n",
    "#    for i = 1:length(sol.u)\n",
    "    for i = 1:1\n",
    "        Y = sol.u[i]\n",
    "        nc_time[i] = sol.t[i]\n",
    "\n",
    "        # extract fields and convert to orthogonal coordinates\n",
    "        Yc = Y.c\n",
    "        Yf = Y.f\n",
    "        uₕ = Geometry.UVVector.(Yc.uₕ)\n",
    "        w = ᶜinterp.(Geometry.WVector.(Yf.w))\n",
    "\n",
    "        # write fields to file\n",
    "        nc_rho[:,i] = Yc.ρ\n",
    "        nc_e[:,i] = Yc.ρe ./ Yc.ρ\n",
    "        nc_u[:,i] = map(u -> u.u, uₕ)\n",
    "        nc_v[:,i] = map(u -> u.v, uₕ)\n",
    "        nc_w[:,i] = map(u -> u.w, w)\n",
    "        @assert size(nc_rho) === size(nc_w)\n",
    "        @show size(nc_rho)\n",
    "    end\n",
    "end"
   ]
  },
  {
   "cell_type": "code",
   "execution_count": 136,
   "id": "4156c68a",
   "metadata": {},
   "outputs": [
    {
     "name": "stdout",
     "output_type": "stream",
     "text": [
      "Parameters:\n",
      "  --map <string> [\"remap_weights.nc\"] \n",
      "  --in_data <string> [\"test.nc\"] \n",
      "  --out_data <string> [\"data_rll.nc\"] \n",
      "  --in_data_list <string> [\"\"] \n",
      "  --out_data_list <string> [\"\"] \n",
      "  --var <string> [\"rho,e,u,v,w\"] \n",
      "  --ncol_name <string> [\"ncol\"] \n",
      "  --bounds <string> [\"\"] \n",
      "  --out_double <bool> [false] \n",
      "  --preserve <string> [\"\"] \n",
      "  --preserveall <bool> [false] \n",
      "  --fillvalue <double> [0.000000] \n",
      "  --logdir <string> [\"\"] \n",
      "------------------------------------------------------------\n",
      "Loading offline map.. Done\n",
      "Processing \"test.nc\"\n",
      "..rho\n",
      "....EXCEPTION (../src/OfflineMap.cpp, Line 1656) Error: Source variable \"rho\" has inconsistent dimension size for this map in dimension \"ncol\".  Expected 866, found 2400.\n",
      "------------------------------------------------------------\n"
     ]
    },
    {
     "ename": "LoadError",
     "evalue": "failed process: Process(setenv(`\u001b[4m/Users/asridhar/.julia/artifacts/78565ae29c612203abb1c795c962d729e22e70ff/bin/ApplyOfflineMap\u001b[24m \u001b[4m--map\u001b[24m \u001b[4mremap_weights.nc\u001b[24m \u001b[4m--var\u001b[24m \u001b[4mrho,e,u,v,w\u001b[24m \u001b[4m--in_data\u001b[24m \u001b[4mtest.nc\u001b[24m \u001b[4m--out_data\u001b[24m \u001b[4mdata_rll.nc\u001b[24m`,[\"PATH=/Users/asridhar/.julia/artifacts/e39202f7052633874a5334e0802af97bdf3b2406/bin:/Users/asridhar/.julia/artifacts/78565ae29c612203abb1c795c962d729e22e70ff/bin:/Users/asridhar/Research/Codes/julia/usr/bin:/Users/asridhar/.julia/conda/3/bin:/Users/local/bin:/Users/asridhar/bin:/usr/local/opt/bison/bin:~/bin:/usr/local/bin:/usr/bin:/bin:/usr/sbin:/sbin:/Library/TeX/texbin:/opt/X11/bin\", \"GKS_ENCODING=utf8\", \"GKS_USE_CAIRO_PNG=true\", \"ITERM_PROFILE=Default\", \"USER=asridhar\", \"GKSwstype=nul\", \"COLUMNS=80\", \"SHELL=/bin/bash\", \"COLORFGBG=15;0\", \"LC_TERMINAL_VERSION=3.3.9\"  …  \"GRDIR=/Users/asridhar/.julia/artifacts/a48fcb2f05fd2670032049a6f22c619ec559f3c4/lib/..\", \"DISPLAY=/private/tmp/com.apple.launchd.yu0wVix4MT/org.macosforge.xquartz:0\", \"TERM_PROGRAM=iTerm.app\", \"JPY_PARENT_PID=54763\", \"GKS_FONTPATH=/Users/asridhar/.julia/artifacts/a48fcb2f05fd2670032049a6f22c619ec559f3c4/lib/..\", \"FONTCONFIG_PATH=/Users/asridhar/.julia/artifacts/2cb0d96a63120d1a0868c905452895a59add9a0d/etc/fonts\", \"CONDA_PREFIX=/Users/asridhar/.julia/conda/3\", \"TERM_SESSION_ID=w0t0p0:028BDFBF-E091-416A-A59C-7556A872E641\", \"PYDEVD_USE_FRAME_EVAL=NO\", \"OPENBLAS_MAIN_FREE=1\"]), ProcessExited(255)) [255]\n",
     "output_type": "error",
     "traceback": [
      "failed process: Process(setenv(`\u001b[4m/Users/asridhar/.julia/artifacts/78565ae29c612203abb1c795c962d729e22e70ff/bin/ApplyOfflineMap\u001b[24m \u001b[4m--map\u001b[24m \u001b[4mremap_weights.nc\u001b[24m \u001b[4m--var\u001b[24m \u001b[4mrho,e,u,v,w\u001b[24m \u001b[4m--in_data\u001b[24m \u001b[4mtest.nc\u001b[24m \u001b[4m--out_data\u001b[24m \u001b[4mdata_rll.nc\u001b[24m`,[\"PATH=/Users/asridhar/.julia/artifacts/e39202f7052633874a5334e0802af97bdf3b2406/bin:/Users/asridhar/.julia/artifacts/78565ae29c612203abb1c795c962d729e22e70ff/bin:/Users/asridhar/Research/Codes/julia/usr/bin:/Users/asridhar/.julia/conda/3/bin:/Users/local/bin:/Users/asridhar/bin:/usr/local/opt/bison/bin:~/bin:/usr/local/bin:/usr/bin:/bin:/usr/sbin:/sbin:/Library/TeX/texbin:/opt/X11/bin\", \"GKS_ENCODING=utf8\", \"GKS_USE_CAIRO_PNG=true\", \"ITERM_PROFILE=Default\", \"USER=asridhar\", \"GKSwstype=nul\", \"COLUMNS=80\", \"SHELL=/bin/bash\", \"COLORFGBG=15;0\", \"LC_TERMINAL_VERSION=3.3.9\"  …  \"GRDIR=/Users/asridhar/.julia/artifacts/a48fcb2f05fd2670032049a6f22c619ec559f3c4/lib/..\", \"DISPLAY=/private/tmp/com.apple.launchd.yu0wVix4MT/org.macosforge.xquartz:0\", \"TERM_PROGRAM=iTerm.app\", \"JPY_PARENT_PID=54763\", \"GKS_FONTPATH=/Users/asridhar/.julia/artifacts/a48fcb2f05fd2670032049a6f22c619ec559f3c4/lib/..\", \"FONTCONFIG_PATH=/Users/asridhar/.julia/artifacts/2cb0d96a63120d1a0868c905452895a59add9a0d/etc/fonts\", \"CONDA_PREFIX=/Users/asridhar/.julia/conda/3\", \"TERM_SESSION_ID=w0t0p0:028BDFBF-E091-416A-A59C-7556A872E641\", \"PYDEVD_USE_FRAME_EVAL=NO\", \"OPENBLAS_MAIN_FREE=1\"]), ProcessExited(255)) [255]\n",
      "",
      "Stacktrace:",
      " [1] pipeline_error",
      "   @ ./process.jl:531 [inlined]",
      " [2] run(::Base.CmdRedirect; wait::Bool)",
      "   @ Base ./process.jl:446",
      " [3] run",
      "   @ ./process.jl:444 [inlined]",
      " [4] apply_remap(outfile::String, infile::String, weightfile::String, vars::Vector{String}; verbose::Bool)",
      "   @ ClimaCoreTempestRemap ~/.julia/packages/ClimaCoreTempestRemap/LQwWF/src/wrappers.jl:124",
      " [5] top-level scope",
      "   @ In[136]:29",
      " [6] eval",
      "   @ ./boot.jl:373 [inlined]",
      " [7] include_string(mapexpr::typeof(REPL.softscope), mod::Module, code::String, filename::String)",
      "   @ Base ./loading.jl:1196"
     ]
    }
   ],
   "source": [
    "# write out our cubed sphere mesh\n",
    "meshfile_cc = \"mesh_cubedsphere.g\"\n",
    "write_exodus(meshfile_cc, hv_center_space.horizontal_space.topology)\n",
    "\n",
    "\n",
    "# write out RLL mesh\n",
    "nlat = 90\n",
    "nlon = 180\n",
    "meshfile_rll = \"mesh_rll.g\"\n",
    "rll_mesh(meshfile_rll; nlat = nlat, nlon = nlon)\n",
    "\n",
    "# construct overlap mesh\n",
    "meshfile_overlap = \"mesh_overlap.g\"\n",
    "overlap_mesh(meshfile_overlap, meshfile_cc, meshfile_rll)\n",
    "\n",
    "# construct remap weight file\n",
    "weightfile = \"remap_weights.nc\"\n",
    "remap_weights(\n",
    "    weightfile,\n",
    "    meshfile_cc,\n",
    "    meshfile_rll,\n",
    "    meshfile_overlap;\n",
    "    in_type = \"cgll\",\n",
    "    in_np = 5,\n",
    ")\n",
    "\n",
    "# apply remap\n",
    "datafile_rll = \"data_rll.nc\"\n",
    "apply_remap(datafile_rll, \n",
    "            datafile_cc, \n",
    "            weightfile, \n",
    "            [\"rho\",\"e\", \"u\", \"v\", \"w\"], \n",
    "            verbose = true)"
   ]
  },
  {
   "cell_type": "code",
   "execution_count": 92,
   "id": "fed9d39e",
   "metadata": {},
   "outputs": [
    {
     "data": {
      "text/plain": [
       "NamedTuple{(:ρ, :ρe, :uₕ), Tuple{Float64, Float64, ClimaCore.Geometry.AxisTensor{Float64, 1, Tuple{ClimaCore.Geometry.CovariantAxis{(1, 2)}}, StaticArrays.SVector{2, Float64}}}}-valued Field:\n",
       "  ρ: [1.099, 0.98199, 0.8749, 0.777068, 0.687872, 0.606722, 0.533061, 0.466365, 0.406139, 0.351913  …  1.099, 0.98199, 0.8749, 0.777068, 0.687872, 0.606722, 0.533061, 0.466365, 0.406139, 0.351913]\n",
       "  ρe: [24449.4, 27664.6, 29768.6, 30931.6, 31306.5, 31030.2, 30224.9, 28998.8, 27448.1, 25657.0  …  24449.4, 27664.6, 29768.6, 30931.6, 31306.5, 31030.2, 30224.9, 28998.8, 27448.1, 25657.0]\n",
       "  uₕ: \n",
       "    components: \n",
       "      data: \n",
       "        1: [0.0, 0.0, 0.0, 0.0, 0.0, 0.0, 0.0, 0.0, 0.0, 0.0  …  0.0, 0.0, 0.0, 0.0, 0.0, 0.0, 0.0, 0.0, 0.0, 0.0]\n",
       "        2: [0.0, 0.0, 0.0, 0.0, 0.0, 0.0, 0.0, 0.0, 0.0, 0.0  …  0.0, 0.0, 0.0, 0.0, 0.0, 0.0, 0.0, 0.0, 0.0, 0.0]"
      ]
     },
     "execution_count": 92,
     "metadata": {},
     "output_type": "execute_result"
    }
   ],
   "source": [
    "Y.c"
   ]
  },
  {
   "cell_type": "code",
   "execution_count": null,
   "id": "f7dbdde5",
   "metadata": {},
   "outputs": [],
   "source": []
  }
 ],
 "metadata": {
  "kernelspec": {
   "display_name": "Julia 1.7.1",
   "language": "julia",
   "name": "julia-1.7"
  },
  "language_info": {
   "file_extension": ".jl",
   "mimetype": "application/julia",
   "name": "julia",
   "version": "1.7.1"
  }
 },
 "nbformat": 4,
 "nbformat_minor": 5
}
